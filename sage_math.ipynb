{
 "cells": [
  {
   "cell_type": "code",
   "execution_count": 22,
   "metadata": {},
   "outputs": [
    {
     "data": {
      "text/plain": [
       "(12, 5, 6, 11, 9, 0, 10, 13, 3, 14, 15, 8, 4, 7, 1, 2)"
      ]
     },
     "execution_count": 22,
     "metadata": {},
     "output_type": "execute_result"
    }
   ],
   "source": [
    "from sage.crypto.sboxes import PRESENT\n",
    "PRESENT"
   ]
  },
  {
   "cell_type": "code",
   "execution_count": 4,
   "metadata": {},
   "outputs": [
    {
     "data": {
      "text/plain": [
       "(12, 5, 6, 11, 9, 0, 10, 13, 3, 14, 15, 8, 4, 7, 1, 2)"
      ]
     },
     "execution_count": 4,
     "metadata": {},
     "output_type": "execute_result"
    }
   ],
   "source": [
    "from sage.crypto.sboxes import AES\n",
    "PRESENT"
   ]
  },
  {
   "cell_type": "code",
   "execution_count": 5,
   "metadata": {},
   "outputs": [],
   "source": [
    "from sage.crypto.sbox import SBox\n",
    "sbox = SBox(25,31,1,9,30,17,3,2,4,19,7,16,11,13,0,6,24,5,8,26,14,23,12,29,10,21,27,18,28,15,20,22)"
   ]
  },
  {
   "cell_type": "code",
   "execution_count": 8,
   "metadata": {},
   "outputs": [
    {
     "data": {
      "text/plain": [
       "32 x 32 dense matrix over Integer Ring (use the '.str()' method to see the entries)"
      ]
     },
     "execution_count": 8,
     "metadata": {},
     "output_type": "execute_result"
    }
   ],
   "source": [
    "sbox.boomerang_connectivity_table()"
   ]
  },
  {
   "cell_type": "code",
   "execution_count": 16,
   "metadata": {},
   "outputs": [
    {
     "data": {
      "text/plain": [
       "32 x 32 dense matrix over Rational Field (use the '.str()' method to see the entries)"
      ]
     },
     "execution_count": 16,
     "metadata": {},
     "output_type": "execute_result"
    }
   ],
   "source": [
    "sbox.linear_approximation_table()"
   ]
  },
  {
   "cell_type": "code",
   "execution_count": 17,
   "metadata": {},
   "outputs": [
    {
     "data": {
      "text/plain": [
       "6"
      ]
     },
     "execution_count": 17,
     "metadata": {},
     "output_type": "execute_result"
    }
   ],
   "source": [
    "sbox.nonlinearity()"
   ]
  },
  {
   "cell_type": "code",
   "execution_count": 19,
   "metadata": {},
   "outputs": [
    {
     "data": {
      "text/plain": [
       "'[ 32  32  32  32  32  32  32  32  32  32  32  32  32  32  32  32  32  32  32  32  32  32  32  32  32  32  32  32  32  32  32  32]\\n[ 32  -8  -8  -8   0   0  16  -8   8   8 -16  -8   0  -8   0   0   0  16   0  -8   0  -8   8   8   0   8   0 -16  -8  -8   0   8]\\n[ 32  -8  -8   8  16   0   0   8   0   0  -8   0   0  -8   0   0   0   0 -16   8   8   0 -16   0   0  -8   0   0  -8   8   0  -8]\\n[ 32   8   0   0   0   0 -16   8  -8   8   0   8   8   0   0 -16  -8  -8   0 -24  -8  16   0   0  -8   0  -8   8   8  -8   8   0]\\n[ 32   8 -24   0 -16   0   8  -8   8   8   0   0  -8   0   0  -8   8 -16   0  24  -8   8   0 -16   0   0   8   8   0   8  -8 -16]\\n[ 32  -8   8  -8   8   0   8   8   0   0   0  -8  -8  -8   0   8  16 -16   0  -8   8  -8   0  -8  -8   0   0   0   0  -8   0   0]\\n[ 32   0   8   0 -16   8  -8   8  -8   0  -8   8   0 -16   0  -8  -8   0  -8   8   0 -16   0  -8  16   0  -8   0   0   8   8   8]\\n[ 32   0   0   8   0  -8  -8  -8   0   0   8   0   0   8   0   0  -8   0   0 -32   8   8   8   0   0  -8   0   0   0   0  -8   0]\\n[ 32   8   8   8   8   0  -8   8   0   0 -16  -8   0   0  -8   0  -8   0  -8   8  -8 -16   0   0   0   0   8   0  -8  -8   8   0]\\n[ 32  -8  -8 -16  16   0  -8  -8  -8  -8  16   0   0  -8   8   0   8  -8   8  -8  -8   0   8   0   0   8   0  -8   8   8  -8  -8]\\n[ 32   0 -16   0   0  16   8  -8   0  -8   8   0   8   0  -8   0   0 -16   8   8   0   0   0   0   0   8   0 -24   8 -16 -16   8]\\n[ 32   0   8  -8  16   0   8   8  -8  -8  -8   8   8  -8  -8  -8   0 -16  -8  -8   0 -16  -8  -8   0   0   0  16   0   0   0  16]\\n[ 32  16  -8   0   0   8 -16 -32   8   8   0  -8   8   0  -8  -8   8   0   8   8  -8  -8   0  -8   0   8  16   0   0 -16  -8   0]\\n[ 32  -8   0  -8 -16  -8   0   8   0   0   0  16  -8   8  -8  -8  -8   0   0  -8   0   8   8   0   0   0  -8  -8   0   0   8   8]\\n[ 32  -8  16  -8   0  -8   0  -8   8  -8   0   0 -16   0  -8   8   0  16  -8   8  -8   8   0   0   0  -8   0  -8   0  -8  16  -8]\\n[ 32   8  -8   0 -16  -8  16  -8   0   0  -8  -8   8   8   8   8   0  16  -8  -8  -8  -8  -8   8   0  -8  -8   0   0   8   0  -8]\\n[ 32   8  -8   0   0   0   8  -8   8   8   0   0   8   0   0   8   0   0  -8 -24   0  -8   8   0   0   8  -8 -16   0   0  -8  -8]\\n[ 32  -8   0  -8   0 -16   8  -8   0   0   8  -8   0   8   0  -8  -8   0   0   8   0   0   0   0   0   0   0  16  -8   0   0  -8]\\n[ 32 -16  16  -8  -8   0  -8  -8  -8   0   0 -16   8   8   0   8   0   0  16  -8  -8   0  -8   8   0  -8  -8   8   0   0   8   0]\\n[ 32   0   0   0   0   0  -8  -8   0   0  -8   8   0 -16   0   0  -8   0   0  24   0  -8   0   8   0  -8   0  -8   8   0 -16   8]\\n[ 32   8   8  16   0  -8   0   8   0   0  -8  -8 -16 -16   0 -16  -8  -8  -8 -24   0   0   8   8   0   8   0  -8   8   0  16   8]\\n[ 32  -8   0  -8   0  -8   0  -8  -8   0   8   0   0   8   0  -8   0   0  -8   8  -8   8   0   0   0   0   8   8 -16   0  -8   8]\\n[ 32  -8 -16   8   0   8   0   8   0   8  16  -8   0   8   0   8  -8   0   0  -8   0   8  -8 -16   0  -8  -8   0  -8   0   0  -8]\\n[ 32   8   0   0  -8  -8   0  -8   8   0 -16   0 -16   0   0   8   0   8   8  24 -16   0   0  -8   0  -8   0   0   0   0   8 -16]\\n[ 32   8 -16   0   0   0 -16  -8  -8  -8   8   0  -8   0   8   8  -8   0   8  -8   0  16   0  -8   0   0   0  -8   8   0  -8   8]\\n[ 32  -8   8  -8   0   0 -16   8   0  -8  -8  -8   8  -8   8   0  -8   0  -8   8   8  -8   0  -8  -8   0   8   8   0   0   8   0]\\n[ 32  -8   0   0  -8   8   0  -8  -8   0   0   0   8   8   8   0   8   0  -8  -8   0   0  -8   0  -8   0 -16  16  -8   8   8 -16]\\n[ 32   8   0   8   0  -8   0   8   0  -8   0  -8  -8   0  -8 -16   8   0  16   8  16   8  -8   0   0  -8  -8 -16   0  -8  -8   0]\\n[ 32   8  16  16   0   8  -8   8   0   0   8   0  -8  -8  -8   0   0   0   0  -8   0   0  -8   0  -8   0   0   0 -16  -8   0 -16]\\n[ 32  -8  -8  -8   0  -8  -8   8  -8  -8   0   8   0   0   8   0 -16   8  -8   8   0  -8   8   8   0   0   8   0   8   8 -16  -8]\\n[ 32 -16   0   0   0   0   8   8   0  -8 -24  16  -8   0  -8   0  16  -8   0  -8   8 -16   0   8   0   0  -8   8   0   0 -16  16]\\n[ 32   0   0  -8  -8   0   8   8  -8  -8  16  -8   0   8  -8   8   0   0   0   8   0   8 -16   0  -8  -8   0  -8  -8   0   0   0]'"
      ]
     },
     "execution_count": 19,
     "metadata": {},
     "output_type": "execute_result"
    }
   ],
   "source": [
    "sbox.autocorrelation_table().str()"
   ]
  },
  {
   "cell_type": "code",
   "execution_count": 20,
   "metadata": {},
   "outputs": [
    {
     "data": {
      "text/plain": [
       "10"
      ]
     },
     "execution_count": 20,
     "metadata": {},
     "output_type": "execute_result"
    }
   ],
   "source": [
    "sbox.maximal_linear_bias_absolute()"
   ]
  },
  {
   "cell_type": "code",
   "execution_count": 21,
   "metadata": {},
   "outputs": [
    {
     "data": {
      "text/plain": [
       "0.3125"
      ]
     },
     "execution_count": 21,
     "metadata": {},
     "output_type": "execute_result"
    }
   ],
   "source": [
    "sbox.maximal_linear_bias_relative()"
   ]
  }
 ],
 "metadata": {
  "kernelspec": {
   "display_name": "SageMath 9.3",
   "language": "sage",
   "name": "sagemath"
  },
  "language_info": {
   "codemirror_mode": {
    "name": "ipython",
    "version": 3
   },
   "file_extension": ".py",
   "mimetype": "text/x-python",
   "name": "python",
   "nbconvert_exporter": "python",
   "pygments_lexer": "ipython3",
   "version": "3.7.10"
  }
 },
 "nbformat": 4,
 "nbformat_minor": 4
}
